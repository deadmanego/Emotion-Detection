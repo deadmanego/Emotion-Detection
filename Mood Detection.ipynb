{
 "cells": [
  {
   "cell_type": "code",
   "execution_count": 20,
   "id": "b75ff954-677d-4b59-82eb-c0bc44c674f5",
   "metadata": {},
   "outputs": [],
   "source": [
    "import cv2\n",
    "from deepface import DeepFace\n",
    "import time\n",
    "\n",
    "# Initialize webcam\n",
    "cap = cv2.VideoCapture(0)  # Change to 1 if you have multiple cameras\n",
    "\n",
    "# Check if webcam opens correctly\n",
    "if not cap.isOpened():\n",
    "    print(\"❌ Error: Cannot access webcam\")\n",
    "    exit()\n",
    "\n",
    "time.sleep(1)  # Give camera time to initialize\n",
    "\n",
    "# Load Haar cascade once (instead of every frame)\n",
    "face_cascade = cv2.CascadeClassifier(cv2.data.haarcascades + \"haarcascade_frontalface_default.xml\")\n",
    "\n",
    "while True:\n",
    "    ret, frame = cap.read()  # Read frame from webcam\n",
    "    \n",
    "    if not ret or frame is None:\n",
    "        print(\"❌ Error: Empty frame received\")\n",
    "        continue  # Skip iteration instead of breaking\n",
    "\n",
    "    # Convert frame to grayscale\n",
    "    gray = cv2.cvtColor(frame, cv2.COLOR_BGR2GRAY)\n",
    "\n",
    "    # Detect faces\n",
    "    faces = face_cascade.detectMultiScale(gray, scaleFactor=1.1, minNeighbors=5, minSize=(30, 30))\n",
    "\n",
    "    for (x, y, w, h) in faces:\n",
    "        roi = frame[y:y+h, x:x+w]  # Extract face region\n",
    "\n",
    "        try:\n",
    "            # Use DeepFace to analyze emotion\n",
    "            result = DeepFace.analyze(roi, actions=['emotion'], enforce_detection=False)\n",
    "            emotion = result[0]['dominant_emotion']\n",
    "\n",
    "            # Draw rectangle & label\n",
    "            cv2.rectangle(frame, (x, y), (x + w, y + h), (0, 255, 0), 2)\n",
    "            cv2.putText(frame, emotion, (x, y - 10), cv2.FONT_HERSHEY_SIMPLEX, 0.9, (0, 255, 0), 2)\n",
    "        \n",
    "        except Exception as e:\n",
    "            print(f\"⚠️ DeepFace Error: {e}\")\n",
    "            continue  # Skip processing for this face\n",
    "    \n",
    "    # Display frame\n",
    "    cv2.imshow(\"Emotion Recognition\", frame)\n",
    "\n",
    "    if cv2.waitKey(1) & 0xFF == ord('q'):  # Press 'q' to exit\n",
    "        break\n",
    "\n",
    "# Cleanup\n",
    "cap.release()\n",
    "cv2.destroyAllWindows()\n"
   ]
  },
  {
   "cell_type": "code",
   "execution_count": null,
   "id": "18a9186d-1f57-4644-8a39-938b20d1432d",
   "metadata": {},
   "outputs": [],
   "source": []
  }
 ],
 "metadata": {
  "kernelspec": {
   "display_name": "Python [conda env:base] *",
   "language": "python",
   "name": "conda-base-py"
  },
  "language_info": {
   "codemirror_mode": {
    "name": "ipython",
    "version": 3
   },
   "file_extension": ".py",
   "mimetype": "text/x-python",
   "name": "python",
   "nbconvert_exporter": "python",
   "pygments_lexer": "ipython3",
   "version": "3.12.7"
  }
 },
 "nbformat": 4,
 "nbformat_minor": 5
}
